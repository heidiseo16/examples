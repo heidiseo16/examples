{
 "cells": [
  {
   "cell_type": "markdown",
   "id": "747e0e8d",
   "metadata": {
    "id": "747e0e8d"
   },
   "source": [
    "# BentoML Scikit-learn Tutorial\n",
    "\n",
    "\n",
    "This is a sample project demonstrating basic usage of [BentoML](https://github.com/bentoml) with\n",
    "Scikit-learn.\n",
    "\n",
    "In this project, we will train a classifier model using Scikit-learn and the Iris dataset, build\n",
    "a prediction service for serving the trained model via an HTTP server, and containerize the \n",
    "model server as a docker image for production deployment.\n",
    "\n",
    "\n",
    "Link to source code: https://github.com/bentoml/BentoML/tree/main/examples/quickstart\n",
    "\n",
    "### Install Dependencies\n",
    "\n",
    "Install required python packages:"
   ]
  },
  {
   "cell_type": "code",
   "execution_count": null,
   "id": "daa3cbef",
   "metadata": {
    "id": "daa3cbef",
    "outputId": "553113cd-eedf-49d4-8572-5767c6d83a5c",
    "colab": {
     "base_uri": "https://localhost:8080/"
    },
    "pycharm": {
     "is_executing": true
    }
   },
   "outputs": [],
   "source": [
    "!pip install -r https://raw.githubusercontent.com/bentoml/BentoML/main/examples/quickstart/requirements.txt"
   ]
  },
  {
   "cell_type": "markdown",
   "id": "b66e31f7",
   "metadata": {
    "id": "b66e31f7"
   },
   "source": [
    "##  Model Training"
   ]
  },
  {
   "cell_type": "code",
   "execution_count": 2,
   "id": "eb526488",
   "metadata": {
    "id": "eb526488",
    "outputId": "3f419c8d-6eb1-4bec-ff20-5409b3ad8465",
    "colab": {
     "base_uri": "https://localhost:8080/"
    }
   },
   "outputs": [
    {
     "name": "stdout",
     "output_type": "stream",
     "text": [
      "[[5.1 3.5 1.4 0.2]\n",
      " [4.9 3.  1.4 0.2]\n",
      " [4.7 3.2 1.3 0.2]\n",
      " [4.6 3.1 1.5 0.2]\n",
      " [5.  3.6 1.4 0.2]\n",
      " [5.4 3.9 1.7 0.4]\n",
      " [4.6 3.4 1.4 0.3]\n",
      " [5.  3.4 1.5 0.2]\n",
      " [4.4 2.9 1.4 0.2]\n",
      " [4.9 3.1 1.5 0.1]\n",
      " [5.4 3.7 1.5 0.2]\n",
      " [4.8 3.4 1.6 0.2]\n",
      " [4.8 3.  1.4 0.1]\n",
      " [4.3 3.  1.1 0.1]\n",
      " [5.8 4.  1.2 0.2]\n",
      " [5.7 4.4 1.5 0.4]\n",
      " [5.4 3.9 1.3 0.4]\n",
      " [5.1 3.5 1.4 0.3]\n",
      " [5.7 3.8 1.7 0.3]\n",
      " [5.1 3.8 1.5 0.3]\n",
      " [5.4 3.4 1.7 0.2]\n",
      " [5.1 3.7 1.5 0.4]\n",
      " [4.6 3.6 1.  0.2]\n",
      " [5.1 3.3 1.7 0.5]\n",
      " [4.8 3.4 1.9 0.2]\n",
      " [5.  3.  1.6 0.2]\n",
      " [5.  3.4 1.6 0.4]\n",
      " [5.2 3.5 1.5 0.2]\n",
      " [5.2 3.4 1.4 0.2]\n",
      " [4.7 3.2 1.6 0.2]\n",
      " [4.8 3.1 1.6 0.2]\n",
      " [5.4 3.4 1.5 0.4]\n",
      " [5.2 4.1 1.5 0.1]\n",
      " [5.5 4.2 1.4 0.2]\n",
      " [4.9 3.1 1.5 0.2]\n",
      " [5.  3.2 1.2 0.2]\n",
      " [5.5 3.5 1.3 0.2]\n",
      " [4.9 3.6 1.4 0.1]\n",
      " [4.4 3.  1.3 0.2]\n",
      " [5.1 3.4 1.5 0.2]\n",
      " [5.  3.5 1.3 0.3]\n",
      " [4.5 2.3 1.3 0.3]\n",
      " [4.4 3.2 1.3 0.2]\n",
      " [5.  3.5 1.6 0.6]\n",
      " [5.1 3.8 1.9 0.4]\n",
      " [4.8 3.  1.4 0.3]\n",
      " [5.1 3.8 1.6 0.2]\n",
      " [4.6 3.2 1.4 0.2]\n",
      " [5.3 3.7 1.5 0.2]\n",
      " [5.  3.3 1.4 0.2]\n",
      " [7.  3.2 4.7 1.4]\n",
      " [6.4 3.2 4.5 1.5]\n",
      " [6.9 3.1 4.9 1.5]\n",
      " [5.5 2.3 4.  1.3]\n",
      " [6.5 2.8 4.6 1.5]\n",
      " [5.7 2.8 4.5 1.3]\n",
      " [6.3 3.3 4.7 1.6]\n",
      " [4.9 2.4 3.3 1. ]\n",
      " [6.6 2.9 4.6 1.3]\n",
      " [5.2 2.7 3.9 1.4]\n",
      " [5.  2.  3.5 1. ]\n",
      " [5.9 3.  4.2 1.5]\n",
      " [6.  2.2 4.  1. ]\n",
      " [6.1 2.9 4.7 1.4]\n",
      " [5.6 2.9 3.6 1.3]\n",
      " [6.7 3.1 4.4 1.4]\n",
      " [5.6 3.  4.5 1.5]\n",
      " [5.8 2.7 4.1 1. ]\n",
      " [6.2 2.2 4.5 1.5]\n",
      " [5.6 2.5 3.9 1.1]\n",
      " [5.9 3.2 4.8 1.8]\n",
      " [6.1 2.8 4.  1.3]\n",
      " [6.3 2.5 4.9 1.5]\n",
      " [6.1 2.8 4.7 1.2]\n",
      " [6.4 2.9 4.3 1.3]\n",
      " [6.6 3.  4.4 1.4]\n",
      " [6.8 2.8 4.8 1.4]\n",
      " [6.7 3.  5.  1.7]\n",
      " [6.  2.9 4.5 1.5]\n",
      " [5.7 2.6 3.5 1. ]\n",
      " [5.5 2.4 3.8 1.1]\n",
      " [5.5 2.4 3.7 1. ]\n",
      " [5.8 2.7 3.9 1.2]\n",
      " [6.  2.7 5.1 1.6]\n",
      " [5.4 3.  4.5 1.5]\n",
      " [6.  3.4 4.5 1.6]\n",
      " [6.7 3.1 4.7 1.5]\n",
      " [6.3 2.3 4.4 1.3]\n",
      " [5.6 3.  4.1 1.3]\n",
      " [5.5 2.5 4.  1.3]\n",
      " [5.5 2.6 4.4 1.2]\n",
      " [6.1 3.  4.6 1.4]\n",
      " [5.8 2.6 4.  1.2]\n",
      " [5.  2.3 3.3 1. ]\n",
      " [5.6 2.7 4.2 1.3]\n",
      " [5.7 3.  4.2 1.2]\n",
      " [5.7 2.9 4.2 1.3]\n",
      " [6.2 2.9 4.3 1.3]\n",
      " [5.1 2.5 3.  1.1]\n",
      " [5.7 2.8 4.1 1.3]\n",
      " [6.3 3.3 6.  2.5]\n",
      " [5.8 2.7 5.1 1.9]\n",
      " [7.1 3.  5.9 2.1]\n",
      " [6.3 2.9 5.6 1.8]\n",
      " [6.5 3.  5.8 2.2]\n",
      " [7.6 3.  6.6 2.1]\n",
      " [4.9 2.5 4.5 1.7]\n",
      " [7.3 2.9 6.3 1.8]\n",
      " [6.7 2.5 5.8 1.8]\n",
      " [7.2 3.6 6.1 2.5]\n",
      " [6.5 3.2 5.1 2. ]\n",
      " [6.4 2.7 5.3 1.9]\n",
      " [6.8 3.  5.5 2.1]\n",
      " [5.7 2.5 5.  2. ]\n",
      " [5.8 2.8 5.1 2.4]\n",
      " [6.4 3.2 5.3 2.3]\n",
      " [6.5 3.  5.5 1.8]\n",
      " [7.7 3.8 6.7 2.2]\n",
      " [7.7 2.6 6.9 2.3]\n",
      " [6.  2.2 5.  1.5]\n",
      " [6.9 3.2 5.7 2.3]\n",
      " [5.6 2.8 4.9 2. ]\n",
      " [7.7 2.8 6.7 2. ]\n",
      " [6.3 2.7 4.9 1.8]\n",
      " [6.7 3.3 5.7 2.1]\n",
      " [7.2 3.2 6.  1.8]\n",
      " [6.2 2.8 4.8 1.8]\n",
      " [6.1 3.  4.9 1.8]\n",
      " [6.4 2.8 5.6 2.1]\n",
      " [7.2 3.  5.8 1.6]\n",
      " [7.4 2.8 6.1 1.9]\n",
      " [7.9 3.8 6.4 2. ]\n",
      " [6.4 2.8 5.6 2.2]\n",
      " [6.3 2.8 5.1 1.5]\n",
      " [6.1 2.6 5.6 1.4]\n",
      " [7.7 3.  6.1 2.3]\n",
      " [6.3 3.4 5.6 2.4]\n",
      " [6.4 3.1 5.5 1.8]\n",
      " [6.  3.  4.8 1.8]\n",
      " [6.9 3.1 5.4 2.1]\n",
      " [6.7 3.1 5.6 2.4]\n",
      " [6.9 3.1 5.1 2.3]\n",
      " [5.8 2.7 5.1 1.9]\n",
      " [6.8 3.2 5.9 2.3]\n",
      " [6.7 3.3 5.7 2.5]\n",
      " [6.7 3.  5.2 2.3]\n",
      " [6.3 2.5 5.  1.9]\n",
      " [6.5 3.  5.2 2. ]\n",
      " [6.2 3.4 5.4 2.3]\n",
      " [5.9 3.  5.1 1.8]]\n"
     ]
    }
   ],
   "source": [
    "from sklearn import svm, datasets\n",
    "\n",
    "# Load training data\n",
    "iris = datasets.load_iris()\n",
    "X, y = iris.data, iris.target\n",
    "\n",
    "# Model Training\n",
    "clf = svm.SVC()\n",
    "clf.fit(X, y)"
   ]
  },
  {
   "cell_type": "markdown",
   "id": "3c114c75",
   "metadata": {
    "id": "3c114c75"
   },
   "source": [
    "Save the `clf` model instance to BentoML local model store:"
   ]
  },
  {
   "cell_type": "code",
   "execution_count": 3,
   "id": "e94ed449",
   "metadata": {
    "id": "e94ed449",
    "outputId": "21c85d84-0142-43e3-913d-e5f124d6b48a",
    "colab": {
     "base_uri": "https://localhost:8080/"
    }
   },
   "outputs": [
    {
     "data": {
      "text/plain": "Model(tag=\"iris_clf:tlur5zfihogljw34\", path=\"/home/vessl/bentoml/models/iris_clf/tlur5zfihogljw34/\")"
     },
     "execution_count": 3,
     "metadata": {},
     "output_type": "execute_result"
    }
   ],
   "source": [
    "import bentoml\n",
    "\n",
    "bentoml.sklearn.save_model(\"iris_clf\", clf)"
   ]
  },
  {
   "cell_type": "markdown",
   "id": "d613e57e",
   "metadata": {
    "id": "d613e57e"
   },
   "source": [
    "Models saved can be accessed via `bentoml models` CLI command:"
   ]
  },
  {
   "cell_type": "code",
   "execution_count": 4,
   "id": "7d771f04",
   "metadata": {
    "id": "7d771f04",
    "outputId": "5b5e132a-e79b-4b5f-f9a5-db3d679c71d8",
    "colab": {
     "base_uri": "https://localhost:8080/"
    }
   },
   "outputs": [
    {
     "name": "stdout",
     "output_type": "stream",
     "text": [
      "/bin/bash: bentoml: command not found\r\n"
     ]
    }
   ],
   "source": [
    "!bentoml models get iris_clf:latest"
   ]
  },
  {
   "cell_type": "code",
   "execution_count": 5,
   "id": "5a876780",
   "metadata": {
    "id": "5a876780",
    "outputId": "ae3cb5e3-03b1-432f-a08b-68b5a4c8b9ae",
    "colab": {
     "base_uri": "https://localhost:8080/"
    }
   },
   "outputs": [
    {
     "name": "stdout",
     "output_type": "stream",
     "text": [
      "/bin/bash: bentoml: command not found\r\n"
     ]
    }
   ],
   "source": [
    "!bentoml models list"
   ]
  },
  {
   "cell_type": "markdown",
   "id": "672721c4",
   "metadata": {
    "id": "672721c4"
   },
   "source": [
    "To verify that the saved model can be loaded correctly:"
   ]
  },
  {
   "cell_type": "code",
   "execution_count": 6,
   "id": "28ac794b",
   "metadata": {
    "id": "28ac794b",
    "outputId": "457305c8-342c-42f0-91d9-65c63c8c6a6b",
    "colab": {
     "base_uri": "https://localhost:8080/"
    }
   },
   "outputs": [
    {
     "data": {
      "text/plain": "array([2])"
     },
     "execution_count": 6,
     "metadata": {},
     "output_type": "execute_result"
    }
   ],
   "source": [
    "loaded_model = bentoml.sklearn.load_model(\"iris_clf:latest\")\n",
    "\n",
    "loaded_model.predict([[5.9, 3.0, 5.1, 1.8]])"
   ]
  },
  {
   "cell_type": "markdown",
   "id": "8fd3bf97",
   "metadata": {
    "id": "8fd3bf97"
   },
   "source": [
    "In BentoML, the recommended way of running ML model inference in serving is via Runner, which \n",
    "gives BentoML more flexibility in terms of how to schedule the inference computation, how to \n",
    "batch inference requests and take advantage of hardware resources available. Saved models can\n",
    "be loaded as a Runner instance as shown below:\n"
   ]
  },
  {
   "cell_type": "code",
   "execution_count": 9,
   "id": "83205567",
   "metadata": {
    "id": "83205567",
    "outputId": "1ba056de-ba19-4ea3-e535-b616691e461c",
    "colab": {
     "base_uri": "https://localhost:8080/"
    }
   },
   "outputs": [
    {
     "name": "stderr",
     "output_type": "stream",
     "text": [
      "'Runner.init_local' is for debugging and testing only. Make sure to remove it before deploying to production.\n"
     ]
    },
    {
     "data": {
      "text/plain": "array([2])"
     },
     "execution_count": 9,
     "metadata": {},
     "output_type": "execute_result"
    }
   ],
   "source": [
    "# Create a Runner instance:\n",
    "iris_clf_runner = bentoml.sklearn.get(\"iris_clf:latest\").to_runner()\n",
    "\n",
    "# Runner#init_local initializes the model in current process, this is meant for development and testing only:\n",
    "iris_clf_runner.init_local()\n",
    "\n",
    "# This should yield the same result as the loaded model:\n",
    "iris_clf_runner.predict.run([[5.9, 3.0, 5.1, 1.8]])"
   ]
  },
  {
   "cell_type": "markdown",
   "id": "3fa68254",
   "metadata": {
    "id": "3fa68254"
   },
   "source": [
    "## Serving the model\n",
    "\n",
    "A simple BentoML Service that serves the model saved above looks like this:"
   ]
  },
  {
   "cell_type": "code",
   "execution_count": 10,
   "id": "127aa3fd",
   "metadata": {
    "id": "127aa3fd",
    "outputId": "027e81b7-1813-4a31-df6e-c2fcdc24a45b",
    "colab": {
     "base_uri": "https://localhost:8080/"
    }
   },
   "outputs": [
    {
     "name": "stdout",
     "output_type": "stream",
     "text": [
      "Overwriting service.py\n"
     ]
    }
   ],
   "source": [
    "%%writefile service.py\n",
    "import numpy as np\n",
    "import bentoml\n",
    "from bentoml.io import NumpyNdarray\n",
    "\n",
    "iris_clf_runner = bentoml.sklearn.get(\"iris_clf:latest\").to_runner()\n",
    "\n",
    "svc = bentoml.Service(\"iris_classifier\", runners=[iris_clf_runner])\n",
    "\n",
    "@svc.api(input=NumpyNdarray(), output=NumpyNdarray())\n",
    "def classify(input_series: np.ndarray) -> np.ndarray:\n",
    "    return iris_clf_runner.predict.run(input_series)\n"
   ]
  },
  {
   "cell_type": "markdown",
   "id": "203beeed",
   "metadata": {
    "id": "203beeed"
   },
   "source": [
    "Note: using `%%writefile` here because `bentoml.Service` definition must be created in its own `.py` file\n",
    "\n",
    "Start a dev model server to test out the service defined above:"
   ]
  },
  {
   "cell_type": "code",
   "execution_count": 12,
   "id": "7523b58f",
   "metadata": {
    "id": "7523b58f",
    "outputId": "773be5fa-d116-45ea-dd15-7b8b2aad2e44",
    "colab": {
     "base_uri": "https://localhost:8080/"
    }
   },
   "outputs": [
    {
     "name": "stdout",
     "output_type": "stream",
     "text": [
      "/bin/bash: bentoml: command not found\r\n"
     ]
    }
   ],
   "source": [
    "!bentoml serve service.py:svc --reload"
   ]
  },
  {
   "cell_type": "markdown",
   "id": "3974e4ce",
   "metadata": {
    "id": "3974e4ce"
   },
   "source": [
    "\n",
    "Open your web browser at http://127.0.0.1:3000 to view the Bento UI for sending test requests.\n",
    "\n",
    "You may also send request with `curl` command or any HTTP client, e.g.:\n",
    "\n",
    "```bash\n",
    "curl -X POST -H \"content-type: application/json\" --data \"[[5.9, 3, 5.1, 1.8]]\" http://127.0.0.1:3000/classify\n",
    "```\n"
   ]
  },
  {
   "cell_type": "markdown",
   "id": "4f1a8bcc",
   "metadata": {
    "id": "4f1a8bcc"
   },
   "source": [
    "### Build Bento for deployment"
   ]
  },
  {
   "cell_type": "markdown",
   "id": "d6192cd5",
   "metadata": {
    "id": "d6192cd5"
   },
   "source": [
    "Bento is the distribution format in BentoML which captures all the source code, model files, config\n",
    "files and dependency specifications required for running the service for production deployment. Think \n",
    "of it as Docker/Container designed for machine learning models.\n",
    "\n",
    "To begin with building Bento, create a `bentofile.yaml` under your project directory:"
   ]
  },
  {
   "cell_type": "code",
   "execution_count": 4,
   "id": "6458e417",
   "metadata": {
    "id": "6458e417",
    "outputId": "1df498ef-ed53-407e-8e5e-0c212534f278",
    "colab": {
     "base_uri": "https://localhost:8080/"
    }
   },
   "outputs": [
    {
     "output_type": "stream",
     "name": "stdout",
     "text": [
      "Writing bentofile.yaml\n"
     ]
    }
   ],
   "source": [
    "%%writefile bentofile.yaml\n",
    "service: \"service.py:svc\"\n",
    "labels:\n",
    "  owner: bentoml-team\n",
    "  project: gallery\n",
    "include:\n",
    "- \"*.py\"\n",
    "python:\n",
    "  packages:\n",
    "    - scikit-learn\n",
    "    - pandas"
   ]
  },
  {
   "cell_type": "code",
   "source": [
    "%%shell\n",
    "cat bentofile.yaml"
   ],
   "metadata": {
    "id": "g2wQwZAtTiRD",
    "outputId": "7881af2c-6ab8-46e5-b911-4b9dc48aa87d",
    "colab": {
     "base_uri": "https://localhost:8080/"
    }
   },
   "id": "g2wQwZAtTiRD",
   "execution_count": 6,
   "outputs": [
    {
     "output_type": "stream",
     "name": "stdout",
     "text": [
      "service: \"service.py:svc\"\n",
      "labels:\n",
      "  owner: bentoml-team\n",
      "  project: gallery\n",
      "include:\n",
      "- \"*.py\"\n",
      "python:\n",
      "  packages:\n",
      "    - scikit-learn\n",
      "    - pandas\n"
     ]
    },
    {
     "output_type": "execute_result",
     "data": {
      "text/plain": []
     },
     "metadata": {},
     "execution_count": 6
    }
   ]
  },
  {
   "cell_type": "markdown",
   "id": "47505e3c",
   "metadata": {
    "id": "47505e3c"
   },
   "source": [
    "Next, run `bentoml build` from current directory to start the Bento build:"
   ]
  },
  {
   "cell_type": "code",
   "execution_count": 7,
   "id": "b7cab8b2",
   "metadata": {
    "id": "b7cab8b2",
    "outputId": "14b67ed2-0430-4f79-d9e5-4dd487ee7044",
    "colab": {
     "base_uri": "https://localhost:8080/"
    }
   },
   "outputs": [
    {
     "output_type": "stream",
     "name": "stdout",
     "text": [
      "Building BentoML service \"iris_classifier:lha554fhskb5wasc\" from build context \"/content\".\n",
      "Packing model \"iris_clf:n4m6w6vhr2lbmasc\"\n",
      "Locking PyPI package versions.\n",
      "\n",
      "██████╗░███████╗███╗░░██╗████████╗░█████╗░███╗░░░███╗██╗░░░░░\n",
      "██╔══██╗██╔════╝████╗░██║╚══██╔══╝██╔══██╗████╗░████║██║░░░░░\n",
      "██████╦╝█████╗░░██╔██╗██║░░░██║░░░██║░░██║██╔████╔██║██║░░░░░\n",
      "██╔══██╗██╔══╝░░██║╚████║░░░██║░░░██║░░██║██║╚██╔╝██║██║░░░░░\n",
      "██████╦╝███████╗██║░╚███║░░░██║░░░╚█████╔╝██║░╚═╝░██║███████╗\n",
      "╚═════╝░╚══════╝╚═╝░░╚══╝░░░╚═╝░░░░╚════╝░╚═╝░░░░░╚═╝╚══════╝\n",
      "\n",
      "Successfully built Bento(tag=\"iris_classifier:lha554fhskb5wasc\").\n"
     ]
    }
   ],
   "source": [
    "!bentoml build"
   ]
  },
  {
   "cell_type": "markdown",
   "id": "4c159551",
   "metadata": {
    "id": "4c159551"
   },
   "source": [
    "A new Bento is now built and saved to local Bento store. You can view and manage it via \n",
    "`bentoml list`,`bentoml get` and `bentoml delete` CLI command."
   ]
  },
  {
   "cell_type": "markdown",
   "id": "81ed8b84",
   "metadata": {
    "id": "81ed8b84"
   },
   "source": [
    "## Containerize and Deployment"
   ]
  },
  {
   "cell_type": "markdown",
   "id": "8c215454",
   "metadata": {
    "id": "8c215454"
   },
   "source": [
    "Bento is designed to be deployed to run efficiently in a variety of different environments.\n",
    "And there are lots of deployment options and tools as part of the BentoML eco-system, such as \n",
    "[Yatai](https://github.com/bentoml/Yatai) and [bentoctl](https://github.com/bentoml/bentoctl) for\n",
    "direct deployment to cloud platforms.\n",
    "\n",
    "In this guide, we will show you the most basic way of deploying a Bento, which is converting a Bento\n",
    "into a Docker image containing the HTTP model server.\n",
    "\n",
    "Make sure you have docker installed and docker deamon running, and run the following commnand:\n",
    "\n",
    "```bash\n",
    "bentoml containerize iris_classifier:latest\n",
    "```\n",
    "\n",
    "This will build a new docker image with all source code, model files and dependencies in place,\n",
    "and ready for production deployment. To start a container with this docker image locally, run:\n",
    "\n",
    "```bash\n",
    "docker run -p 3000:3000 iris_classifier:invwzzsw7li6zckb2ie5eubhd \n",
    "```\n",
    "\n",
    "## What's Next?\n",
    "\n",
    "- 👉 [Pop into our Slack community!](https://l.linklyhq.com/l/ktO8) We're happy to help with any issue you face or even just to meet you and hear what you're working on.\n",
    "\n",
    "- Dive deeper into the [Core Concepts](https://docs.bentoml.org/en/latest/concepts/index.html) in BentoML\n",
    "- Learn how to use BentoML with other ML Frameworks at [Frameworks Guide](https://docs.bentoml.org/en/latest/frameworks/index.html) or check out other [gallery projects](https://github.com/bentoml/BentoML/tree/main/examples)\n",
    "- Learn more about model deployment options for Bento:\n",
    "  - [🦄️ Yatai](https://github.com/bentoml/Yatai): Model Deployment at scale on Kubernetes\n",
    "  - [🚀 bentoctl](https://github.com/bentoml/bentoctl): Fast model deployment on any cloud platform\n"
   ]
  }
 ],
 "metadata": {
  "kernelspec": {
   "display_name": "Python 3 (ipykernel)",
   "language": "python",
   "name": "python3"
  },
  "language_info": {
   "codemirror_mode": {
    "name": "ipython",
    "version": 3
   },
   "file_extension": ".py",
   "mimetype": "text/x-python",
   "name": "python",
   "nbconvert_exporter": "python",
   "pygments_lexer": "ipython3",
   "version": "3.8.12"
  },
  "colab": {
   "provenance": []
  }
 },
 "nbformat": 4,
 "nbformat_minor": 5
}
